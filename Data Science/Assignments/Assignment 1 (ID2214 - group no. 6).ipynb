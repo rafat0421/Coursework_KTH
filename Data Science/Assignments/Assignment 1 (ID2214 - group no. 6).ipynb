{
 "cells": [
  {
   "cell_type": "markdown",
   "metadata": {},
   "source": [
    "# ID2214/FID3214 Assignment 1 Group no. ID2214 - group no. 6\n",
    "### Project members: \n",
    "[Ali Khalid, akhalid@kth.se]\n",
    "[Ibrahim Abdelkareem, iaiab@kth.se]\n",
    "[Rafat Khan, rafatk@kth.se]\n",
    "\n",
    "### Declaration:\n",
    "By submitting this solution, it is hereby declared that all individuals listed above have contributed to the solution, either with code that appear in the final solution below, or with code that has been evaluated and compared to the final solution, but for some reason has been excluded. It is also declared that all project members fully understand all parts of the final solution and can explain it upon request.\n",
    "\n",
    "It is furthermore declared that the code below is a contribution by the project members only, and specifically that no part of the solution has been copied from any other source (except for lecture slides at the course ID2214/FID3214) and no part of the solution has been provided by someone not listed as project member above.\n",
    "\n",
    "It is furthermore declared that it has been understood that no other library/package than the Python 3 standard library, NumPy and pandas may be used in the solution for this assignment.\n",
    "\n",
    "### Instructions\n",
    "All parts of the assignment starting with number 1 below are mandatory. Satisfactory solutions\n",
    "will give 1 point (in total). If they in addition are good (all parts work more or less \n",
    "as they should), completed on time (submitted before the deadline in Canvas) and according\n",
    "to the instructions, together with satisfactory solutions of all parts of the assignment starting \n",
    "with number 2 below, then the assignment will receive 2 points (in total).\n",
    "\n",
    "Note that you do not have to develop the code directly within the notebook\n",
    "but may instead copy the comments and test cases to a more convenient development environment\n",
    "and when everything works as expected, you may paste your functions into this\n",
    "notebook, do a final testing (all cells should succeed) and submit the whole notebook \n",
    "(a single file) in Canvas (do not forget to fill in your group number and names above)."
   ]
  },
  {
   "cell_type": "markdown",
   "metadata": {},
   "source": [
    "## Load NumPy and pandas"
   ]
  },
  {
   "cell_type": "code",
   "execution_count": 13,
   "metadata": {},
   "outputs": [],
   "source": [
    "import numpy as np\n",
    "import pandas as pd"
   ]
  },
  {
   "cell_type": "markdown",
   "metadata": {},
   "source": [
    "## 1a. Create and apply column filter"
   ]
  },
  {
   "cell_type": "code",
   "execution_count": 14,
   "metadata": {},
   "outputs": [],
   "source": [
    "# Insert the functions create_column_filter and apply_column_filter below (after the comments)\n",
    "#\n",
    "# Input to create_column_filter:\n",
    "# df - a dataframe (where the column names \"CLASS\" and \"ID\" have special meaning)\n",
    "#\n",
    "# Output from create_filter:\n",
    "# df            - a new dataframe, where columns, except \"CLASS\" and \"ID\", containing only missing values \n",
    "#                 or only one unique value (apart from the missing values) have been dropped\n",
    "# column_filter - a list of the names of the remaining columns, including \"CLASS\" and \"ID\"\n",
    "#\n",
    "# Hint 1: First copy the input dataframe and modify the copy (the input dataframe should be kept unchanged)\n",
    "#\n",
    "# Hint 2: Iterate through all columns and consider to drop a column only if it is not labeled \"CLASS\" or \"ID\"\n",
    "#\n",
    "# Hint 3: You may check the number of unique (non-missing) values in a column by applying the pandas functions\n",
    "#         dropna and unique to drop missing values and get the unique (remaining) values\n",
    "#\n",
    "# Input to apply_column_filter:\n",
    "# df            - a dataframe\n",
    "# column_filter - a list of the names of the columns to keep (see above)\n",
    "#\n",
    "# Output from apply_column_filter:\n",
    "# df - a new dataframe, where each column that is not included in column_filter has been dropped\n",
    "#\n",
    "# Hint 1: First copy the input dataframe and modify the copy (the input dataframe should be kept unchanged)\n",
    "\n",
    "def create_column_filter(df):\n",
    "    filtered_df = df.copy(deep=True) #new object with a copy of the calling object’s data and indices\n",
    "    column_filter = [\"CLASS\"]\n",
    "    for name, column in filtered_df.iteritems():\n",
    "        if name==\"CLASS\" and \"ID\": continue\n",
    "        if len(column.dropna().unique())<=1: filtered_df.drop(columns=name, inplace=True)\n",
    "        else: column_filter.append(name)      \n",
    "    return filtered_df, column_filter\n",
    "    \n",
    "def apply_column_filter(df, column_filter):\n",
    "    filtered_df = df.copy(deep=True)\n",
    "    return pd.concat([filtered_df[column_filter[:]]])\n"
   ]
  },
  {
   "cell_type": "code",
   "execution_count": 15,
   "metadata": {},
   "outputs": [
    {
     "data": {
      "text/plain": [
       "'df'"
      ]
     },
     "metadata": {},
     "output_type": "display_data"
    },
    {
     "data": {
      "text/html": [
       "<div>\n",
       "<style scoped>\n",
       "    .dataframe tbody tr th:only-of-type {\n",
       "        vertical-align: middle;\n",
       "    }\n",
       "\n",
       "    .dataframe tbody tr th {\n",
       "        vertical-align: top;\n",
       "    }\n",
       "\n",
       "    .dataframe thead th {\n",
       "        text-align: right;\n",
       "    }\n",
       "</style>\n",
       "<table border=\"1\" class=\"dataframe\">\n",
       "  <thead>\n",
       "    <tr style=\"text-align: right;\">\n",
       "      <th></th>\n",
       "      <th>CLASS</th>\n",
       "      <th>A</th>\n",
       "      <th>B</th>\n",
       "      <th>C</th>\n",
       "      <th>D</th>\n",
       "    </tr>\n",
       "  </thead>\n",
       "  <tbody>\n",
       "    <tr>\n",
       "      <th>0</th>\n",
       "      <td>1</td>\n",
       "      <td>1.0</td>\n",
       "      <td>1.0</td>\n",
       "      <td>h</td>\n",
       "      <td>NaN</td>\n",
       "    </tr>\n",
       "    <tr>\n",
       "      <th>1</th>\n",
       "      <td>0</td>\n",
       "      <td>2.0</td>\n",
       "      <td>1.0</td>\n",
       "      <td>h</td>\n",
       "      <td>NaN</td>\n",
       "    </tr>\n",
       "    <tr>\n",
       "      <th>2</th>\n",
       "      <td>1</td>\n",
       "      <td>NaN</td>\n",
       "      <td>1.0</td>\n",
       "      <td>NaN</td>\n",
       "      <td>NaN</td>\n",
       "    </tr>\n",
       "    <tr>\n",
       "      <th>3</th>\n",
       "      <td>0</td>\n",
       "      <td>4.0</td>\n",
       "      <td>1.0</td>\n",
       "      <td>i</td>\n",
       "      <td>NaN</td>\n",
       "    </tr>\n",
       "    <tr>\n",
       "      <th>4</th>\n",
       "      <td>1</td>\n",
       "      <td>5.0</td>\n",
       "      <td>NaN</td>\n",
       "      <td>h</td>\n",
       "      <td>NaN</td>\n",
       "    </tr>\n",
       "  </tbody>\n",
       "</table>\n",
       "</div>"
      ],
      "text/plain": [
       "   CLASS    A    B    C   D\n",
       "0      1  1.0  1.0    h NaN\n",
       "1      0  2.0  1.0    h NaN\n",
       "2      1  NaN  1.0  NaN NaN\n",
       "3      0  4.0  1.0    i NaN\n",
       "4      1  5.0  NaN    h NaN"
      ]
     },
     "metadata": {},
     "output_type": "display_data"
    },
    {
     "data": {
      "text/plain": [
       "'filtered_df'"
      ]
     },
     "metadata": {},
     "output_type": "display_data"
    },
    {
     "data": {
      "text/html": [
       "<div>\n",
       "<style scoped>\n",
       "    .dataframe tbody tr th:only-of-type {\n",
       "        vertical-align: middle;\n",
       "    }\n",
       "\n",
       "    .dataframe tbody tr th {\n",
       "        vertical-align: top;\n",
       "    }\n",
       "\n",
       "    .dataframe thead th {\n",
       "        text-align: right;\n",
       "    }\n",
       "</style>\n",
       "<table border=\"1\" class=\"dataframe\">\n",
       "  <thead>\n",
       "    <tr style=\"text-align: right;\">\n",
       "      <th></th>\n",
       "      <th>CLASS</th>\n",
       "      <th>A</th>\n",
       "      <th>C</th>\n",
       "    </tr>\n",
       "  </thead>\n",
       "  <tbody>\n",
       "    <tr>\n",
       "      <th>0</th>\n",
       "      <td>1</td>\n",
       "      <td>1.0</td>\n",
       "      <td>h</td>\n",
       "    </tr>\n",
       "    <tr>\n",
       "      <th>1</th>\n",
       "      <td>0</td>\n",
       "      <td>2.0</td>\n",
       "      <td>h</td>\n",
       "    </tr>\n",
       "    <tr>\n",
       "      <th>2</th>\n",
       "      <td>1</td>\n",
       "      <td>NaN</td>\n",
       "      <td>NaN</td>\n",
       "    </tr>\n",
       "    <tr>\n",
       "      <th>3</th>\n",
       "      <td>0</td>\n",
       "      <td>4.0</td>\n",
       "      <td>i</td>\n",
       "    </tr>\n",
       "    <tr>\n",
       "      <th>4</th>\n",
       "      <td>1</td>\n",
       "      <td>5.0</td>\n",
       "      <td>h</td>\n",
       "    </tr>\n",
       "  </tbody>\n",
       "</table>\n",
       "</div>"
      ],
      "text/plain": [
       "   CLASS    A    C\n",
       "0      1  1.0    h\n",
       "1      0  2.0    h\n",
       "2      1  NaN  NaN\n",
       "3      0  4.0    i\n",
       "4      1  5.0    h"
      ]
     },
     "metadata": {},
     "output_type": "display_data"
    },
    {
     "data": {
      "text/plain": [
       "'new_df'"
      ]
     },
     "metadata": {},
     "output_type": "display_data"
    },
    {
     "data": {
      "text/html": [
       "<div>\n",
       "<style scoped>\n",
       "    .dataframe tbody tr th:only-of-type {\n",
       "        vertical-align: middle;\n",
       "    }\n",
       "\n",
       "    .dataframe tbody tr th {\n",
       "        vertical-align: top;\n",
       "    }\n",
       "\n",
       "    .dataframe thead th {\n",
       "        text-align: right;\n",
       "    }\n",
       "</style>\n",
       "<table border=\"1\" class=\"dataframe\">\n",
       "  <thead>\n",
       "    <tr style=\"text-align: right;\">\n",
       "      <th></th>\n",
       "      <th>CLASS</th>\n",
       "      <th>A</th>\n",
       "      <th>B</th>\n",
       "      <th>C</th>\n",
       "      <th>D</th>\n",
       "    </tr>\n",
       "  </thead>\n",
       "  <tbody>\n",
       "    <tr>\n",
       "      <th>0</th>\n",
       "      <td>1</td>\n",
       "      <td>4</td>\n",
       "      <td>1</td>\n",
       "      <td>NaN</td>\n",
       "      <td>NaN</td>\n",
       "    </tr>\n",
       "    <tr>\n",
       "      <th>1</th>\n",
       "      <td>0</td>\n",
       "      <td>5</td>\n",
       "      <td>2</td>\n",
       "      <td>NaN</td>\n",
       "      <td>4.0</td>\n",
       "    </tr>\n",
       "    <tr>\n",
       "      <th>2</th>\n",
       "      <td>0</td>\n",
       "      <td>6</td>\n",
       "      <td>1</td>\n",
       "      <td>NaN</td>\n",
       "      <td>5.0</td>\n",
       "    </tr>\n",
       "  </tbody>\n",
       "</table>\n",
       "</div>"
      ],
      "text/plain": [
       "   CLASS  A  B   C    D\n",
       "0      1  4  1 NaN  NaN\n",
       "1      0  5  2 NaN  4.0\n",
       "2      0  6  1 NaN  5.0"
      ]
     },
     "metadata": {},
     "output_type": "display_data"
    },
    {
     "data": {
      "text/plain": [
       "'filtered_new_df'"
      ]
     },
     "metadata": {},
     "output_type": "display_data"
    },
    {
     "data": {
      "text/html": [
       "<div>\n",
       "<style scoped>\n",
       "    .dataframe tbody tr th:only-of-type {\n",
       "        vertical-align: middle;\n",
       "    }\n",
       "\n",
       "    .dataframe tbody tr th {\n",
       "        vertical-align: top;\n",
       "    }\n",
       "\n",
       "    .dataframe thead th {\n",
       "        text-align: right;\n",
       "    }\n",
       "</style>\n",
       "<table border=\"1\" class=\"dataframe\">\n",
       "  <thead>\n",
       "    <tr style=\"text-align: right;\">\n",
       "      <th></th>\n",
       "      <th>CLASS</th>\n",
       "      <th>A</th>\n",
       "      <th>C</th>\n",
       "    </tr>\n",
       "  </thead>\n",
       "  <tbody>\n",
       "    <tr>\n",
       "      <th>0</th>\n",
       "      <td>1</td>\n",
       "      <td>4</td>\n",
       "      <td>NaN</td>\n",
       "    </tr>\n",
       "    <tr>\n",
       "      <th>1</th>\n",
       "      <td>0</td>\n",
       "      <td>5</td>\n",
       "      <td>NaN</td>\n",
       "    </tr>\n",
       "    <tr>\n",
       "      <th>2</th>\n",
       "      <td>0</td>\n",
       "      <td>6</td>\n",
       "      <td>NaN</td>\n",
       "    </tr>\n",
       "  </tbody>\n",
       "</table>\n",
       "</div>"
      ],
      "text/plain": [
       "   CLASS  A   C\n",
       "0      1  4 NaN\n",
       "1      0  5 NaN\n",
       "2      0  6 NaN"
      ]
     },
     "metadata": {},
     "output_type": "display_data"
    }
   ],
   "source": [
    "# Test your code (leave this part unchanged)\n",
    "\n",
    "df = pd.DataFrame({\"CLASS\":[1,0,1,0,1],\"A\":[1,2,np.nan,4,5],\"B\":[1,1,1,1,np.nan],\"C\":[\"h\",\"h\",np.nan,\"i\",\"h\"],\"D\":[np.nan,np.nan,np.nan,np.nan,np.nan]})\n",
    "\n",
    "filtered_df, column_filter = create_column_filter(df)\n",
    "\n",
    "new_df = pd.DataFrame({\"CLASS\":[1,0,0],\"A\":[4,5,6],\"B\":[1,2,1],\"C\":[np.nan,np.nan,np.nan],\"D\":[np.nan,4,5]})\n",
    "\n",
    "filtered_new_df = apply_column_filter(new_df,column_filter)\n",
    "\n",
    "display(\"df\",df)\n",
    "display(\"filtered_df\",filtered_df)\n",
    "display(\"new_df\",new_df)\n",
    "display(\"filtered_new_df\",filtered_new_df)"
   ]
  },
  {
   "cell_type": "markdown",
   "metadata": {},
   "source": [
    "## 1b. Create and apply normalization"
   ]
  },
  {
   "cell_type": "code",
   "execution_count": 22,
   "metadata": {},
   "outputs": [],
   "source": [
    "# Insert the functions create_normalization and apply_normalization below (after the comments)\n",
    "#\n",
    "# Input to create_normalization:\n",
    "# df: a dataframe (where the column names \"CLASS\" and \"ID\" have special meaning)\n",
    "# normalizationtype: \"minmax\" (default) or \"zscore\"\n",
    "#\n",
    "# Output from create_normalization:\n",
    "# df            - a new dataframe, where each numeric value in a column has been replaced by a normalized value\n",
    "# normalization - a mapping (dictionary) from each column name to a triple, consisting of\n",
    "#                (\"minmax\",min_value,max_value) or (\"zscore\",mean,std)\n",
    "#\n",
    "# Hint 1: First copy the input dataframe and modify the copy (the input dataframe should be kept unchanged)\n",
    "#\n",
    "# Hint 2: Consider columns of type \"float\" or \"int\" only (and which are not labeled \"CLASS\" or \"ID\"),\n",
    "#         the other columns should remain unchanged\n",
    "#\n",
    "# Hint 3: Take a close look at the lecture slides on data preparation\n",
    "#\n",
    "# Input to apply_normalization:\n",
    "# df            - a dataframe\n",
    "# normalization - a mapping (dictionary) from column names to triples (see above)\n",
    "#\n",
    "# Output from apply_normalization:\n",
    "# df - a new dataframe, where each numerical value has been normalized according to the mapping\n",
    "#\n",
    "# Hint 1: First copy the input dataframe and modify the copy (the input dataframe should be kept unchanged)\n",
    "#\n",
    "# Hint 2: For minmax-normalization, you may consider to limit the output range to [0,1]\n",
    "\n",
    "def create_normalization(dataframe, normalizationtype=\"minmax\"):\n",
    "    \n",
    "    df = dataframe.copy()\n",
    "    normalization = {}\n",
    "    df.drop(columns=[\"ID\",\"CLASS\"],inplace=True)\n",
    "   \n",
    "    for col in df.columns:\n",
    "        if df[col].dtypes == \"int\" or df[col].dtype == \"float\":\n",
    "            \n",
    "            if normalizationtype == \"minmax\":\n",
    "                min = df[col].min()\n",
    "                max = df[col].max()\n",
    "                df[col] = [(x-min)/(max-min) for x in df[col]]\n",
    "                normalization[col] = (\"minmax\", min, max)\n",
    "                \n",
    "            elif normalizationtype == \"zscore\":\n",
    "                mean = df[col].mean()\n",
    "                std = df[col].std()\n",
    "                df[col] = df[col].apply(lambda x: (x-mean)/std)\n",
    "                normalization[col] = (\"zscore\", mean, std)\n",
    "  \n",
    "    return df, normalization\n",
    "\n",
    "\n",
    "def apply_normalization(dataframe,normalization):\n",
    "    \n",
    "    df = dataframe.copy()\n",
    "    \n",
    "    for col in df.columns:\n",
    "        \n",
    "        if col != \"CLASS\" and col != \"ID\":\n",
    "        \n",
    "            value = list(normalization[col])\n",
    "           \n",
    "            if value[0] == \"minmax\":\n",
    "                df[col] = [(x - value[1])/(value[2]-value[1]) for x in df[col]]\n",
    "            \n",
    "            elif value[0] == \"zscore\":\n",
    "                df[col] = [(x - value[1])/value[2] for x in df[col]]\n",
    "                \n",
    "            else:\n",
    "                return False\n",
    "            \n",
    "    return df\n",
    "\n"
   ]
  },
  {
   "cell_type": "code",
   "execution_count": 23,
   "metadata": {},
   "outputs": [
    {
     "ename": "FileNotFoundError",
     "evalue": "[Errno 2] No such file or directory: 'glass_train.csv'",
     "output_type": "error",
     "traceback": [
      "\u001b[1;31m---------------------------------------------------------------------------\u001b[0m",
      "\u001b[1;31mFileNotFoundError\u001b[0m                         Traceback (most recent call last)",
      "\u001b[1;32m<ipython-input-23-76da26955f5b>\u001b[0m in \u001b[0;36m<module>\u001b[1;34m\u001b[0m\n\u001b[0;32m      1\u001b[0m \u001b[1;31m# Test your code (leave this part unchanged)\u001b[0m\u001b[1;33m\u001b[0m\u001b[1;33m\u001b[0m\u001b[1;33m\u001b[0m\u001b[0m\n\u001b[0;32m      2\u001b[0m \u001b[1;33m\u001b[0m\u001b[0m\n\u001b[1;32m----> 3\u001b[1;33m \u001b[0mglass_train_df\u001b[0m \u001b[1;33m=\u001b[0m \u001b[0mpd\u001b[0m\u001b[1;33m.\u001b[0m\u001b[0mread_csv\u001b[0m\u001b[1;33m(\u001b[0m\u001b[1;34m\"glass_train.csv\"\u001b[0m\u001b[1;33m)\u001b[0m\u001b[1;33m\u001b[0m\u001b[1;33m\u001b[0m\u001b[0m\n\u001b[0m\u001b[0;32m      4\u001b[0m \u001b[1;33m\u001b[0m\u001b[0m\n\u001b[0;32m      5\u001b[0m \u001b[0mglass_test_df\u001b[0m \u001b[1;33m=\u001b[0m \u001b[0mpd\u001b[0m\u001b[1;33m.\u001b[0m\u001b[0mread_csv\u001b[0m\u001b[1;33m(\u001b[0m\u001b[1;34m\"glass_test.csv\"\u001b[0m\u001b[1;33m)\u001b[0m\u001b[1;33m\u001b[0m\u001b[1;33m\u001b[0m\u001b[0m\n",
      "\u001b[1;32m~\\anaconda3\\lib\\site-packages\\pandas\\io\\parsers.py\u001b[0m in \u001b[0;36mread_csv\u001b[1;34m(filepath_or_buffer, sep, delimiter, header, names, index_col, usecols, squeeze, prefix, mangle_dupe_cols, dtype, engine, converters, true_values, false_values, skipinitialspace, skiprows, skipfooter, nrows, na_values, keep_default_na, na_filter, verbose, skip_blank_lines, parse_dates, infer_datetime_format, keep_date_col, date_parser, dayfirst, cache_dates, iterator, chunksize, compression, thousands, decimal, lineterminator, quotechar, quoting, doublequote, escapechar, comment, encoding, dialect, error_bad_lines, warn_bad_lines, delim_whitespace, low_memory, memory_map, float_precision, storage_options)\u001b[0m\n\u001b[0;32m    608\u001b[0m     \u001b[0mkwds\u001b[0m\u001b[1;33m.\u001b[0m\u001b[0mupdate\u001b[0m\u001b[1;33m(\u001b[0m\u001b[0mkwds_defaults\u001b[0m\u001b[1;33m)\u001b[0m\u001b[1;33m\u001b[0m\u001b[1;33m\u001b[0m\u001b[0m\n\u001b[0;32m    609\u001b[0m \u001b[1;33m\u001b[0m\u001b[0m\n\u001b[1;32m--> 610\u001b[1;33m     \u001b[1;32mreturn\u001b[0m \u001b[0m_read\u001b[0m\u001b[1;33m(\u001b[0m\u001b[0mfilepath_or_buffer\u001b[0m\u001b[1;33m,\u001b[0m \u001b[0mkwds\u001b[0m\u001b[1;33m)\u001b[0m\u001b[1;33m\u001b[0m\u001b[1;33m\u001b[0m\u001b[0m\n\u001b[0m\u001b[0;32m    611\u001b[0m \u001b[1;33m\u001b[0m\u001b[0m\n\u001b[0;32m    612\u001b[0m \u001b[1;33m\u001b[0m\u001b[0m\n",
      "\u001b[1;32m~\\anaconda3\\lib\\site-packages\\pandas\\io\\parsers.py\u001b[0m in \u001b[0;36m_read\u001b[1;34m(filepath_or_buffer, kwds)\u001b[0m\n\u001b[0;32m    460\u001b[0m \u001b[1;33m\u001b[0m\u001b[0m\n\u001b[0;32m    461\u001b[0m     \u001b[1;31m# Create the parser.\u001b[0m\u001b[1;33m\u001b[0m\u001b[1;33m\u001b[0m\u001b[1;33m\u001b[0m\u001b[0m\n\u001b[1;32m--> 462\u001b[1;33m     \u001b[0mparser\u001b[0m \u001b[1;33m=\u001b[0m \u001b[0mTextFileReader\u001b[0m\u001b[1;33m(\u001b[0m\u001b[0mfilepath_or_buffer\u001b[0m\u001b[1;33m,\u001b[0m \u001b[1;33m**\u001b[0m\u001b[0mkwds\u001b[0m\u001b[1;33m)\u001b[0m\u001b[1;33m\u001b[0m\u001b[1;33m\u001b[0m\u001b[0m\n\u001b[0m\u001b[0;32m    463\u001b[0m \u001b[1;33m\u001b[0m\u001b[0m\n\u001b[0;32m    464\u001b[0m     \u001b[1;32mif\u001b[0m \u001b[0mchunksize\u001b[0m \u001b[1;32mor\u001b[0m \u001b[0miterator\u001b[0m\u001b[1;33m:\u001b[0m\u001b[1;33m\u001b[0m\u001b[1;33m\u001b[0m\u001b[0m\n",
      "\u001b[1;32m~\\anaconda3\\lib\\site-packages\\pandas\\io\\parsers.py\u001b[0m in \u001b[0;36m__init__\u001b[1;34m(self, f, engine, **kwds)\u001b[0m\n\u001b[0;32m    817\u001b[0m             \u001b[0mself\u001b[0m\u001b[1;33m.\u001b[0m\u001b[0moptions\u001b[0m\u001b[1;33m[\u001b[0m\u001b[1;34m\"has_index_names\"\u001b[0m\u001b[1;33m]\u001b[0m \u001b[1;33m=\u001b[0m \u001b[0mkwds\u001b[0m\u001b[1;33m[\u001b[0m\u001b[1;34m\"has_index_names\"\u001b[0m\u001b[1;33m]\u001b[0m\u001b[1;33m\u001b[0m\u001b[1;33m\u001b[0m\u001b[0m\n\u001b[0;32m    818\u001b[0m \u001b[1;33m\u001b[0m\u001b[0m\n\u001b[1;32m--> 819\u001b[1;33m         \u001b[0mself\u001b[0m\u001b[1;33m.\u001b[0m\u001b[0m_engine\u001b[0m \u001b[1;33m=\u001b[0m \u001b[0mself\u001b[0m\u001b[1;33m.\u001b[0m\u001b[0m_make_engine\u001b[0m\u001b[1;33m(\u001b[0m\u001b[0mself\u001b[0m\u001b[1;33m.\u001b[0m\u001b[0mengine\u001b[0m\u001b[1;33m)\u001b[0m\u001b[1;33m\u001b[0m\u001b[1;33m\u001b[0m\u001b[0m\n\u001b[0m\u001b[0;32m    820\u001b[0m \u001b[1;33m\u001b[0m\u001b[0m\n\u001b[0;32m    821\u001b[0m     \u001b[1;32mdef\u001b[0m \u001b[0mclose\u001b[0m\u001b[1;33m(\u001b[0m\u001b[0mself\u001b[0m\u001b[1;33m)\u001b[0m\u001b[1;33m:\u001b[0m\u001b[1;33m\u001b[0m\u001b[1;33m\u001b[0m\u001b[0m\n",
      "\u001b[1;32m~\\anaconda3\\lib\\site-packages\\pandas\\io\\parsers.py\u001b[0m in \u001b[0;36m_make_engine\u001b[1;34m(self, engine)\u001b[0m\n\u001b[0;32m   1048\u001b[0m             )\n\u001b[0;32m   1049\u001b[0m         \u001b[1;31m# error: Too many arguments for \"ParserBase\"\u001b[0m\u001b[1;33m\u001b[0m\u001b[1;33m\u001b[0m\u001b[1;33m\u001b[0m\u001b[0m\n\u001b[1;32m-> 1050\u001b[1;33m         \u001b[1;32mreturn\u001b[0m \u001b[0mmapping\u001b[0m\u001b[1;33m[\u001b[0m\u001b[0mengine\u001b[0m\u001b[1;33m]\u001b[0m\u001b[1;33m(\u001b[0m\u001b[0mself\u001b[0m\u001b[1;33m.\u001b[0m\u001b[0mf\u001b[0m\u001b[1;33m,\u001b[0m \u001b[1;33m**\u001b[0m\u001b[0mself\u001b[0m\u001b[1;33m.\u001b[0m\u001b[0moptions\u001b[0m\u001b[1;33m)\u001b[0m  \u001b[1;31m# type: ignore[call-arg]\u001b[0m\u001b[1;33m\u001b[0m\u001b[1;33m\u001b[0m\u001b[0m\n\u001b[0m\u001b[0;32m   1051\u001b[0m \u001b[1;33m\u001b[0m\u001b[0m\n\u001b[0;32m   1052\u001b[0m     \u001b[1;32mdef\u001b[0m \u001b[0m_failover_to_python\u001b[0m\u001b[1;33m(\u001b[0m\u001b[0mself\u001b[0m\u001b[1;33m)\u001b[0m\u001b[1;33m:\u001b[0m\u001b[1;33m\u001b[0m\u001b[1;33m\u001b[0m\u001b[0m\n",
      "\u001b[1;32m~\\anaconda3\\lib\\site-packages\\pandas\\io\\parsers.py\u001b[0m in \u001b[0;36m__init__\u001b[1;34m(self, src, **kwds)\u001b[0m\n\u001b[0;32m   1865\u001b[0m \u001b[1;33m\u001b[0m\u001b[0m\n\u001b[0;32m   1866\u001b[0m         \u001b[1;31m# open handles\u001b[0m\u001b[1;33m\u001b[0m\u001b[1;33m\u001b[0m\u001b[1;33m\u001b[0m\u001b[0m\n\u001b[1;32m-> 1867\u001b[1;33m         \u001b[0mself\u001b[0m\u001b[1;33m.\u001b[0m\u001b[0m_open_handles\u001b[0m\u001b[1;33m(\u001b[0m\u001b[0msrc\u001b[0m\u001b[1;33m,\u001b[0m \u001b[0mkwds\u001b[0m\u001b[1;33m)\u001b[0m\u001b[1;33m\u001b[0m\u001b[1;33m\u001b[0m\u001b[0m\n\u001b[0m\u001b[0;32m   1868\u001b[0m         \u001b[1;32massert\u001b[0m \u001b[0mself\u001b[0m\u001b[1;33m.\u001b[0m\u001b[0mhandles\u001b[0m \u001b[1;32mis\u001b[0m \u001b[1;32mnot\u001b[0m \u001b[1;32mNone\u001b[0m\u001b[1;33m\u001b[0m\u001b[1;33m\u001b[0m\u001b[0m\n\u001b[0;32m   1869\u001b[0m         \u001b[1;32mfor\u001b[0m \u001b[0mkey\u001b[0m \u001b[1;32min\u001b[0m \u001b[1;33m(\u001b[0m\u001b[1;34m\"storage_options\"\u001b[0m\u001b[1;33m,\u001b[0m \u001b[1;34m\"encoding\"\u001b[0m\u001b[1;33m,\u001b[0m \u001b[1;34m\"memory_map\"\u001b[0m\u001b[1;33m,\u001b[0m \u001b[1;34m\"compression\"\u001b[0m\u001b[1;33m)\u001b[0m\u001b[1;33m:\u001b[0m\u001b[1;33m\u001b[0m\u001b[1;33m\u001b[0m\u001b[0m\n",
      "\u001b[1;32m~\\anaconda3\\lib\\site-packages\\pandas\\io\\parsers.py\u001b[0m in \u001b[0;36m_open_handles\u001b[1;34m(self, src, kwds)\u001b[0m\n\u001b[0;32m   1360\u001b[0m         \u001b[0mLet\u001b[0m \u001b[0mthe\u001b[0m \u001b[0mreaders\u001b[0m \u001b[0mopen\u001b[0m \u001b[0mIOHanldes\u001b[0m \u001b[0mafter\u001b[0m \u001b[0mthey\u001b[0m \u001b[0mare\u001b[0m \u001b[0mdone\u001b[0m \u001b[1;32mwith\u001b[0m \u001b[0mtheir\u001b[0m \u001b[0mpotential\u001b[0m \u001b[0mraises\u001b[0m\u001b[1;33m.\u001b[0m\u001b[1;33m\u001b[0m\u001b[1;33m\u001b[0m\u001b[0m\n\u001b[0;32m   1361\u001b[0m         \"\"\"\n\u001b[1;32m-> 1362\u001b[1;33m         self.handles = get_handle(\n\u001b[0m\u001b[0;32m   1363\u001b[0m             \u001b[0msrc\u001b[0m\u001b[1;33m,\u001b[0m\u001b[1;33m\u001b[0m\u001b[1;33m\u001b[0m\u001b[0m\n\u001b[0;32m   1364\u001b[0m             \u001b[1;34m\"r\"\u001b[0m\u001b[1;33m,\u001b[0m\u001b[1;33m\u001b[0m\u001b[1;33m\u001b[0m\u001b[0m\n",
      "\u001b[1;32m~\\anaconda3\\lib\\site-packages\\pandas\\io\\common.py\u001b[0m in \u001b[0;36mget_handle\u001b[1;34m(path_or_buf, mode, encoding, compression, memory_map, is_text, errors, storage_options)\u001b[0m\n\u001b[0;32m    640\u001b[0m                 \u001b[0merrors\u001b[0m \u001b[1;33m=\u001b[0m \u001b[1;34m\"replace\"\u001b[0m\u001b[1;33m\u001b[0m\u001b[1;33m\u001b[0m\u001b[0m\n\u001b[0;32m    641\u001b[0m             \u001b[1;31m# Encoding\u001b[0m\u001b[1;33m\u001b[0m\u001b[1;33m\u001b[0m\u001b[1;33m\u001b[0m\u001b[0m\n\u001b[1;32m--> 642\u001b[1;33m             handle = open(\n\u001b[0m\u001b[0;32m    643\u001b[0m                 \u001b[0mhandle\u001b[0m\u001b[1;33m,\u001b[0m\u001b[1;33m\u001b[0m\u001b[1;33m\u001b[0m\u001b[0m\n\u001b[0;32m    644\u001b[0m                 \u001b[0mioargs\u001b[0m\u001b[1;33m.\u001b[0m\u001b[0mmode\u001b[0m\u001b[1;33m,\u001b[0m\u001b[1;33m\u001b[0m\u001b[1;33m\u001b[0m\u001b[0m\n",
      "\u001b[1;31mFileNotFoundError\u001b[0m: [Errno 2] No such file or directory: 'glass_train.csv'"
     ]
    }
   ],
   "source": [
    "# Test your code (leave this part unchanged)\n",
    "\n",
    "glass_train_df = pd.read_csv(\"glass_train.csv\")\n",
    "\n",
    "glass_test_df = pd.read_csv(\"glass_test.csv\")\n",
    "\n",
    "glass_train_norm, normalization = create_normalization(glass_train_df,normalizationtype=\"minmax\")\n",
    "print(\"normalization:\\n\")\n",
    "for f in normalization:\n",
    "    print(\"{}:{}\".format(f,normalization[f]))\n",
    "\n",
    "print()\n",
    "    \n",
    "glass_test_norm = apply_normalization(glass_test_df,normalization)\n",
    "display(\"glass_test_norm\",glass_test_norm)"
   ]
  },
  {
   "cell_type": "markdown",
   "metadata": {},
   "source": [
    "### For some reason, the system can access the files in my pc unless I provide the full path. I have tested the code by reading the csv file with command: glass_train_df = pd.read_csv(r\"C:\\Users\\rafat\\glass_train.csv\") which worked fine."
   ]
  },
  {
   "cell_type": "markdown",
   "metadata": {},
   "source": [
    "## 1c. Create and apply imputation"
   ]
  },
  {
   "cell_type": "code",
   "execution_count": null,
   "metadata": {},
   "outputs": [],
   "source": [
    "# Insert the functions create_imputation and apply_imputation below (after the comments)\n",
    "#\n",
    "# Input to create_imputation:\n",
    "# df: a dataframe (where the column names \"CLASS\" and \"ID\" have special meaning)\n",
    "#\n",
    "# Output from create_imputation:\n",
    "# df         - a new dataframe, where each missing numeric value in a column has been replaced by the mean of that column \n",
    "#              and each missing categoric value in a column has been replaced by the mode of that column\n",
    "# imputation - a mapping (dictionary) from column name to value that has replaced missing values\n",
    "#\n",
    "# Hint 1: First copy the input dataframe and modify the copy (the input dataframe should be kept unchanged)\n",
    "#\n",
    "# Hint 2: Handle columns of type \"float\" or \"int\" only (and which are not labeled \"CLASS\" or \"ID\") in one way\n",
    "#         and columns of type \"object\" and \"category\" in other ways\n",
    "#\n",
    "# Hint 3: Consider using the pandas functions mean and mode respectively, as well as fillna\n",
    "#\n",
    "# Hint 4: In the rare case of all values in a column being missing*, replace numeric values with 0,\n",
    "#         object values with \"\" and category values with the first category (cat.categories[0])  \n",
    "#\n",
    "#         *Note that this will not occur if the previous column filter function has been applied\n",
    "#\n",
    "# Input to apply_imputation:\n",
    "# df         - a dataframe\n",
    "# imputation - a mapping (dictionary) from column name to value that should replace missing values\n",
    "#\n",
    "# Output from apply_imputation:\n",
    "# df - a new dataframe, where each missing value has been replaced according to the mapping\n",
    "#\n",
    "# Hint 1: First copy the input dataframe and modify the copy (the input dataframe should be kept unchanged)\n",
    "#\n",
    "# Hint 2: Consider using fillna\n",
    "\n",
    "def create_imputation(dataframe):\n",
    "    \n",
    "    df = dataframe.copy()\n",
    "    imputation = {}\n",
    "    \n",
    "    for col in df.columns:\n",
    "        \n",
    "        if col != \"ID\" and col != \"CLASS\":  \n",
    "            \n",
    "            if df[col].dtypes == \"int\" or df[col].dtype == \"float\":\n",
    "                \n",
    "                df[col].fillna(df[col].mean(),inplace=True) \n",
    "                imputation[col] = (df[col].mean())\n",
    "                \n",
    "            else:\n",
    "                df[col].fillna(df[col].mode()[0],inplace=True)\n",
    "                imputation[col] = (df[\"CLASS\"].mode()[0])\n",
    "        \n",
    "    return df, imputation\n",
    "\n",
    "def apply_imputation(dataframe,imputation):\n",
    "    \n",
    "    df = dataframe.copy()\n",
    "    \n",
    "    [df[col].fillna(imputation[col],inplace=True) for col in imputation]\n",
    "    \n",
    "    return df\n"
   ]
  },
  {
   "cell_type": "code",
   "execution_count": null,
   "metadata": {},
   "outputs": [],
   "source": [
    "# Test your code (leave this part unchanged)\n",
    "\n",
    "anneal_train_df = pd.read_csv(\"anneal_train.csv\")\n",
    "anneal_test_df = pd.read_csv(\"anneal_test.csv\")\n",
    "\n",
    "anneal_train_imp, imputation = create_imputation(anneal_train_df)\n",
    "anneal_test_imp = apply_imputation(anneal_test_df,imputation)\n",
    "\n",
    "print(\"Imputation:\\n\")\n",
    "for f in imputation:\n",
    "    print(\"{}:{}\".format(f,imputation[f]))\n",
    "\n",
    "print(\"\\nNo. of replaced missing values in training data:\\n{}\".format(anneal_train_imp.count()-anneal_train_df.count()))\n",
    "print(\"\\nNo. of replaced missing values in test data:\\n{}\".format(anneal_test_imp.count()-anneal_test_df.count()))"
   ]
  },
  {
   "cell_type": "markdown",
   "metadata": {},
   "source": [
    "### Comment on assumptions, things that do not work properly, etc."
   ]
  },
  {
   "cell_type": "markdown",
   "metadata": {},
   "source": [
    "## 1d. Create and apply discretization"
   ]
  },
  {
   "cell_type": "code",
   "execution_count": null,
   "metadata": {},
   "outputs": [],
   "source": [
    "# Insert the functions create_bins and apply_bins below\n",
    "#\n",
    "# Input to create_bins:\n",
    "# df      - a dataframe\n",
    "# nobins  - no. of bins (default = 10)\n",
    "# bintype - either \"equal-width\" (default) or \"equal-size\" \n",
    "#\n",
    "# Output from create_bins:\n",
    "# df      - a new dataframe, where each numeric feature value has been replaced by a categoric (corresponding to some bin)\n",
    "# binning - a mapping (dictionary) from column name to bins (threshold values for the bin)\n",
    "#\n",
    "# Hint 1: First copy the input dataframe and modify the copy (the input dataframe should be kept unchanged)\n",
    "#\n",
    "# Hint 2: Discretize columns of type \"float\" or \"int\" only (and which are not labeled \"CLASS\" or \"ID\")\n",
    "#\n",
    "# Hint 3: Consider using pd.cut and pd.qcut respectively, with labels=False and retbins=True\n",
    "#\n",
    "# Hint 4: Set all columns in the new dataframe to be of type \"category\"\n",
    "#\n",
    "# Hint 5: Set the categories of the discretized features to be [0,...,nobins-1]\n",
    "#\n",
    "# Hint 6: Change the first and the last element of each binning to -np.inf and np.inf respectively \n",
    "#\n",
    "# Input to apply_bins:\n",
    "# df      - a dataframe\n",
    "# binning - a mapping (dictionary) from column name to bins (threshold values for the bin)\n",
    "#\n",
    "# Output from apply_bins:\n",
    "# df - a new dataframe, where each numeric feature value has been replaced by a categoric (corresponding to some bin)\n",
    "#\n",
    "# Hint 1: First copy the input dataframe and modify the copy (the input dataframe should be kept unchanged)\n",
    "#\n",
    "# Hint 2: Consider using pd.cut \n",
    "#\n",
    "# Hint 3: Set all columns in the new dataframe to be of type \"category\"\n",
    "#\n",
    "# Hint 4: Set the categories of the discretized features to be [0,...,nobins-1]\n",
    "\n",
    "def create_bins(dataframe,nobins=10,bintype=\"equal-width\"):\n",
    "    \n",
    "    df = dataframe.copy()\n",
    "    binning = {}\n",
    "    for col in df.columns:\n",
    "        if col != \"CLASS\" and col != \"ID\" and df[col].dtype in [\"float\", \"int\"]:\n",
    "            if bintype == \"equal-width\":\n",
    "                df[col], bins = pd.cut(df[col],nobins,retbins=True,duplicates=\"drop\",labels=False)\n",
    "                binning[col] = bins    \n",
    "            elif bintype == \"equal-size\":\n",
    "                df[col], bins = pd.qcut(df[col],q=nobins,retbins=True,duplicates=\"drop\",labels=False)\n",
    "                binning[col] = bins\n",
    "            df[col] = df[col].astype(\"category\")\n",
    "            df[col] = df[col].cat.set_categories([str(i) for i in df[col].cat.categories], rename = True)\n",
    "            binning[col][0] = -np.inf\n",
    "            binning[col][-1] = np.inf\n",
    "        else:\n",
    "            df[col] = df[col].astype('category')\n",
    "    \n",
    "    return df, binning\n",
    "\n",
    "def apply_bins(dataframe,binning):\n",
    "    \n",
    "    df = dataframe.copy()\n",
    "    bin_labels = {}\n",
    "    for col in binning:  \n",
    "        bins = binning[col]\n",
    "        df[col] = pd.cut(df[col],bins,labels=False)\n",
    "        df[col] = df[col].astype(\"category\")\n",
    "        df[col] = df[col].cat.set_categories([str(i) for i in df[col].cat.categories], rename = True)        \n",
    "    df = df.astype(\"category\")\n",
    "    return df\n"
   ]
  },
  {
   "cell_type": "code",
   "execution_count": null,
   "metadata": {},
   "outputs": [],
   "source": [
    "# Test your code  (leave this part unchanged)\n",
    "\n",
    "glass_train_df = pd.read_csv(\"glass_train.csv\")\n",
    "\n",
    "glass_test_df = pd.read_csv(\"glass_test.csv\")\n",
    "\n",
    "glass_train_disc, binning = create_bins(glass_train_df,nobins=10,bintype=\"equal-size\")\n",
    "print(\"binning:\")\n",
    "for f in binning:\n",
    "    print(\"{}:{}\".format(f,binning[f]))\n",
    "\n",
    "print()    \n",
    "glass_test_disc = apply_bins(glass_test_df,binning)\n",
    "display(\"glass_test_disc\",glass_test_disc)"
   ]
  },
  {
   "cell_type": "markdown",
   "metadata": {},
   "source": [
    "### Comment on assumptions, things that do not work properly, etc."
   ]
  },
  {
   "cell_type": "markdown",
   "metadata": {},
   "source": [
    "## 1e. Create and apply one-hot encoding"
   ]
  },
  {
   "cell_type": "code",
   "execution_count": null,
   "metadata": {},
   "outputs": [],
   "source": [
    "# Insert the functions create_one_hot and apply_one_hot below\n",
    "#\n",
    "# Input to create_one_hot:\n",
    "# df: a dataframe\n",
    "#\n",
    "# Output from create_one_hot:\n",
    "# df      - a new dataframe, where each categoric feature has been replaced by a set of binary features \n",
    "#           (as many new features as there are possible values)\n",
    "# one_hot - a mapping (dictionary) from column name to a set of categories (possible values for the feature)\n",
    "#\n",
    "# Hint 1: First copy the input dataframe and modify the copy (the input dataframe should be kept unchanged)\n",
    "#\n",
    "# Hint 2: Consider columns of type \"object\" or \"category\" only (and which are not labeled \"CLASS\" or \"ID\")\n",
    "#\n",
    "# Hint 3: Consider creating new column names by merging the original column name and the categorical value\n",
    "#\n",
    "# Hint 4: Set all new columns to be of type \"float\"\n",
    "#\n",
    "# Hint 5: Do not forget to remove the original categoric feature\n",
    "#\n",
    "# Input to apply_one_hot:\n",
    "# df      - a dataframe\n",
    "# one_hot - a mapping (dictionary) from column name to categories\n",
    "#\n",
    "# Output from apply_one_hot:\n",
    "# df - a new dataframe, where each categoric feature has been replaced by a set of binary features\n",
    "#\n",
    "# Hint: See the above Hints\n",
    "\n",
    "def create_one_hot(df):\n",
    "    new_df = df.copy()\n",
    "    one_hot = {}\n",
    "    for col in df.columns:\n",
    "        if(col not in ['ID', 'CLASS'] and new_df[col].dtype in ['object', 'category']):\n",
    "            new_df[col] = new_df[col].astype('category')\n",
    "            one_hot[col] = new_df[col].cat.categories    \n",
    "            df_one_hot = pd.get_dummies(new_df[col])\n",
    "            new_df = new_df.drop(columns=col, axis=1)\n",
    "            new_df = pd.concat([new_df, df_one_hot], axis=1)\n",
    "            \n",
    "    return new_df, one_hot\n",
    "\n",
    "def apply_one_hot(df, one_hot):\n",
    "    new_df = df.copy()\n",
    "    for col in df.columns:\n",
    "        if col in one_hot.keys():\n",
    "            for i in one_hot[col]:\n",
    "                name = col+'_'+i\n",
    "                new_col = pd.Series((df[col]==i).astype('float'))\n",
    "                new_df[name] = new_col\n",
    "            new_df = new_df.drop(columns=col, axis=1)\n",
    "    return new_df\n"
   ]
  },
  {
   "cell_type": "code",
   "execution_count": null,
   "metadata": {},
   "outputs": [],
   "source": [
    "# Test your code  (leave this part unchanged)\n",
    "\n",
    "train_df = pd.read_csv(\"tic-tac-toe_train.csv\")\n",
    "\n",
    "new_train, one_hot = create_one_hot(train_df)\n",
    "\n",
    "test_df = pd.read_csv(\"tic-tac-toe_test.csv\")\n",
    "\n",
    "new_test_df = apply_one_hot(test_df,one_hot)\n",
    "display(\"new_test_df\",new_test_df)"
   ]
  },
  {
   "cell_type": "markdown",
   "metadata": {},
   "source": [
    "### Comment on assumptions, things that do not work properly, etc."
   ]
  },
  {
   "cell_type": "markdown",
   "metadata": {},
   "source": [
    "## 1f. Divide a dataset into a training and a test set"
   ]
  },
  {
   "cell_type": "code",
   "execution_count": null,
   "metadata": {},
   "outputs": [],
   "source": [
    "# Insert the function split below\n",
    "#\n",
    "# Input to split:\n",
    "# df           - a dataframe\n",
    "# testfraction - a float in the range (0,1) (default = 0.5)\n",
    "#\n",
    "# Output from split:\n",
    "# trainingdf - a dataframe consisting of a random sample of (1-testfraction) of the rows in df\n",
    "# testdf     - a dataframe consisting of the rows in df that are not included in trainingdf\n",
    "#\n",
    "# Hint: You may use np.random.permutation(df.index) to get a permuted list of indexes where a \n",
    "#       prefix corresponds to the test instances, and the suffix to the training instances \n",
    "\n",
    "def split(dataframe, testfraction=0.5):\n",
    "    \n",
    "    df = dataframe.copy()\n",
    "    \n",
    "    df_rand = df.reindex(np.random.permutation(df.index))\n",
    "    \n",
    "    trainingdf = df_rand[0: int((1-testfraction)*df.shape[0])]\n",
    "    testdf = df_rand[int((1-testfraction)*df.shape[0])+1 : df.shape[0]]\n",
    "    \n",
    "    return trainingdf, testdf\n"
   ]
  },
  {
   "cell_type": "code",
   "execution_count": null,
   "metadata": {},
   "outputs": [],
   "source": [
    "# Test your code  (leave this part unchanged)\n",
    "\n",
    "glass_df = pd.read_csv(\"glass.csv\")\n",
    "\n",
    "glass_train, glass_test = split(glass_df,testfraction=0.25)\n",
    "\n",
    "print(\"Training IDs:\\n{}\".format(glass_train[\"ID\"].values))\n",
    "\n",
    "print(\"\\nTest IDs:\\n{}\".format(glass_test[\"ID\"].values))\n",
    "\n",
    "print(\"\\nOverlap: {}\".format(set(glass_train[\"ID\"]).intersection(set(glass_test[\"ID\"]))))"
   ]
  },
  {
   "cell_type": "markdown",
   "metadata": {},
   "source": [
    "### Comment on assumptions, things that do not work properly, etc."
   ]
  },
  {
   "cell_type": "markdown",
   "metadata": {},
   "source": [
    "## 1g. Calculate accuracy of a set of predictions"
   ]
  },
  {
   "cell_type": "code",
   "execution_count": null,
   "metadata": {},
   "outputs": [],
   "source": [
    "# Insert the function accuracy below\n",
    "#\n",
    "# Input to accuracy:\n",
    "# df            - a dataframe with class labels as column names and each row corresponding to\n",
    "#                 a prediction with estimated probabilities for each class\n",
    "# correctlabels - an array (or list) of the correct class label for each prediction\n",
    "#                 (the number of correct labels must equal the number of rows in df)\n",
    "#\n",
    "# Output from accuracy:\n",
    "# accuracy - the fraction of cases for which the predicted class label coincides with the correct label\n",
    "#\n",
    "# Hint: In case the label receiving the highest probability is not unique, you may\n",
    "#       resolve that by picking the first (as ordered by the column names) or \n",
    "#       by randomly selecting one of the labels with highest probaility.\n",
    "\n",
    "def accuracy(dataframe, correctlabels):\n",
    "    df = dataframe.copy()\n",
    "    labels = df.idxmax(axis=1)\n",
    "    correctlabels = (labels == correctlabels).sum(axis=0)\n",
    "    accuracy = correctlabels/len(df)\n",
    "    return accuracy\n"
   ]
  },
  {
   "cell_type": "code",
   "execution_count": null,
   "metadata": {
    "scrolled": false
   },
   "outputs": [],
   "source": [
    "# Test your code  (leave this part unchanged)\n",
    "\n",
    "predictions = pd.DataFrame({\"A\":[0.5,0.5,0.5,0.25,0.25],\"B\":[0.5,0.25,0.25,0.5,0.25],\"C\":[0.0,0.25,0.25,0.25,0.5]})\n",
    "display(\"predictions\",predictions)"
   ]
  },
  {
   "cell_type": "code",
   "execution_count": null,
   "metadata": {},
   "outputs": [],
   "source": [
    "correctlabels = [\"B\",\"A\",\"B\",\"B\",\"C\"]\n",
    "\n",
    "print(\"Accuracy: {}\".format(accuracy(predictions,correctlabels))) # Note that depending on how ties are resolved the accuracy may be 0.6 or 0.8"
   ]
  },
  {
   "cell_type": "markdown",
   "metadata": {},
   "source": [
    "### Comment on assumptions, things that do not work properly, etc."
   ]
  },
  {
   "cell_type": "markdown",
   "metadata": {},
   "source": [
    "## 2a. Divide a dataset into a number of folds"
   ]
  },
  {
   "cell_type": "code",
   "execution_count": null,
   "metadata": {},
   "outputs": [],
   "source": [
    "# Insert the function folds below\n",
    "#\n",
    "# Input to folds:\n",
    "# df      - a dataframe\n",
    "# nofolds - an integer greater than 1 (default = 10)\n",
    "#\n",
    "# Output from folds:\n",
    "# folds - a list (of length = nofolds) dataframes consisting of random non-overlapping, \n",
    "#         approximately equal-sized subsets of the rows in df\n",
    "#\n",
    "# Hint: You may use np.random.permutation(df.index) to get a permuted list of indexes from which a \n",
    "#       prefix corresponds to the test instances, and the suffix to the training instances \n",
    "\n",
    "def folds(df, nofolds=10):\n",
    "    idx = np.random.permutation(df.index)\n",
    "    foldnumber = len(idx)//nofolds+1\n",
    "    foldList = []\n",
    "    for i in range(nofolds):\n",
    "        foldList.append(df.iloc[idx[i*foldnumber:(i+1)*foldnumber], :])\n",
    "    return foldList\n"
   ]
  },
  {
   "cell_type": "code",
   "execution_count": null,
   "metadata": {},
   "outputs": [],
   "source": [
    "# Test your code  (leave this part unchanged)\n",
    "\n",
    "glass_df = pd.read_csv(\"glass.csv\")\n",
    "\n",
    "glass_folds = folds(glass_df,nofolds=5)\n",
    "\n",
    "fold_sizes = [len(f) for f in glass_folds]\n",
    "\n",
    "print(\"Fold sizes:{}\\nTotal no. instances: {}\".format(fold_sizes,sum(fold_sizes)))"
   ]
  },
  {
   "cell_type": "markdown",
   "metadata": {},
   "source": [
    "### Comment on assumptions, things that do not work properly, etc."
   ]
  },
  {
   "cell_type": "markdown",
   "metadata": {},
   "source": [
    "## 2b. Calculate Brier score of a set of predictions"
   ]
  },
  {
   "cell_type": "code",
   "execution_count": null,
   "metadata": {},
   "outputs": [],
   "source": [
    "# Insert the function brier_score below\n",
    "#\n",
    "# Input to brier_score:\n",
    "# df            - a dataframe with class labels as column names and each row corresponding to\n",
    "#                 a prediction with estimated probabilities for each class\n",
    "# correctlabels - an array (or list) of the correct class label for each prediction\n",
    "#                 (the number of correct labels must equal the number of rows in df)\n",
    "#\n",
    "# Output from brier_score:\n",
    "# brier_score - the average square error of the predicted probabilties \n",
    "#\n",
    "# Hint: Compare each predicted vector to a vector for each correct label, which is all zeros except \n",
    "#       for at the index of the correct class. The index can be found using np.where(df.columns==l)[0] \n",
    "#       where l is the correct label.\n",
    "\n",
    "def brier_score(df, correctlabels):\n",
    "    if len(df) != len(correctlabels):\n",
    "        print(\"Invalid Length\")\n",
    "        return None\n",
    "    error = 0\n",
    "    for i in range(len(df)):\n",
    "        f = df.iloc[i,:]\n",
    "        idx = np.where(df.columns==correctlabels[i])[0]\n",
    "        o = [1 if k == idx else 0 for k in range(df.shape[1])]\n",
    "        error += np.sum((f - o)**2)\n",
    "    \n",
    "    return error / len(df)\n"
   ]
  },
  {
   "cell_type": "code",
   "execution_count": null,
   "metadata": {
    "scrolled": true
   },
   "outputs": [],
   "source": [
    "# Test your code  (leave this part unchanged)\n",
    "\n",
    "predictions = pd.DataFrame({\"A\":[0.5,0.5,0.5,0.25,0.25],\"B\":[0.5,0.25,0.25,0.5,0.25],\"C\":[0.0,0.25,0.25,0.25,0.5]})\n",
    "\n",
    "correctlabels = [\"B\",\"A\",\"B\",\"B\",\"C\"]\n",
    "\n",
    "print(\"Brier score: {}\".format(brier_score(predictions,correctlabels)))"
   ]
  },
  {
   "cell_type": "markdown",
   "metadata": {},
   "source": [
    "### Comment on assumptions, things that do not work properly, etc."
   ]
  },
  {
   "cell_type": "markdown",
   "metadata": {},
   "source": [
    "## 2c. Calculate AUC of a set of predictions"
   ]
  },
  {
   "cell_type": "code",
   "execution_count": 18,
   "metadata": {},
   "outputs": [],
   "source": [
    "# Insert the function auc below\n",
    "#\n",
    "# Input to auc:\n",
    "# df            - a dataframe with class labels as column names and each row corresponding to\n",
    "#                 a prediction with estimated probabilities for each class\n",
    "# correctlabels - an array (or list) of the correct class label for each prediction\n",
    "#                 (the number of correct labels must equal the number of rows in df)\n",
    "#\n",
    "# Output from auc:\n",
    "# auc - the weighted area under ROC curve\n",
    "#\n",
    "# Hint 1: Calculate the binary AUC first for each class label c, i.e., treating the\n",
    "#         predicted probability of this class for each instance as a score; the true positives\n",
    "#         are the ones belonging to class c and the false positives the rest\n",
    "#\n",
    "# Hint 2: When calculating the binary AUC, first find the scores of the true positives and then\n",
    "#         the scores of the true negatives\n",
    "#\n",
    "# Hint 3: You may use a dictionary with a mapping from each score to an array of two numbers; \n",
    "#         the number of true positives with this score and the number of true negatives with this score\n",
    "#\n",
    "# Hint 4: Created a (reversely) sorted (on the scores) list of pairs from the dictionary and\n",
    "#         iterate over this to additively calculate the AUC\n",
    "#\n",
    "# Hint 5: For each pair in the above list, there are three cases to consider; the no. of false positives\n",
    "#         is zero, the no. of true positives is zero, and both are non-zero\n",
    "#\n",
    "# Hint 6: Calculate the weighted AUC by summing the individual AUCs weighted by the relative\n",
    "#         frequency of each class (as estimated from the correct labels)\n",
    "\n",
    "def binary_auc(pred, true, col):\n",
    "    \n",
    "    pred = np.array(pred)\n",
    "    n = [i == col for i in true] \n",
    "    col_pred, other_pred = pred[n], pred[[not i for i in n]]\n",
    "\n",
    "    pred_list = list(pred)\n",
    "    pred_list.extend([0,1])\n",
    "    pred_list = sorted(pred_list)\n",
    "    dict_list = {}\n",
    "\n",
    "    for thres in pred_list:\n",
    "        if(len(other_pred)==0):\n",
    "            FP = 0\n",
    "        else:\n",
    "            FP = sum(other_pred >= thres)/len(other_pred)\n",
    "        if(len(col_pred)==0):\n",
    "            TP = 0\n",
    "        else:\n",
    "            TP = sum(col_pred >= thres)/len(col_pred)\n",
    "        dict_list[thres] = [FP, TP]\n",
    "\n",
    "    list_reversed = [i for i in reversed(list(dict_list.values()))]\n",
    "\n",
    "    auc = 0\n",
    "    if([0,0] not in list_reversed):\n",
    "        list_reversed = [[0,0]] + list_reversed\n",
    "    if([1,1] not in list_reversed):\n",
    "        list_reversed = list_reversed + [[1,1]]\n",
    "    for i in range(len(list_reversed) - 1):\n",
    "        tp_left, tp_right = list_reversed[i][1], list_reversed[i+1][1]\n",
    "        fp_left, fp_right = list_reversed[i][0], list_reversed[i+1][0]\n",
    "        if fp_right != fp_left:\n",
    "            height = (tp_left + tp_right) / 2\n",
    "            width = fp_right - fp_left\n",
    "            auc += height*width\n",
    "    return auc\n",
    "\n",
    "\n",
    "def auc(df, correctlabels):\n",
    "    N = len(df)\n",
    "    auc = 0\n",
    "    for col in df:\n",
    "        weight = sum(pd.Series(correctlabels) == col)/N\n",
    "        bauc = binary_auc(df[col], correctlabels, col)\n",
    "        auc += weight*bauc\n",
    "    return auc\n"
   ]
  },
  {
   "cell_type": "code",
   "execution_count": 19,
   "metadata": {},
   "outputs": [
    {
     "name": "stdout",
     "output_type": "stream",
     "text": [
      "AUC: 0.375\n"
     ]
    }
   ],
   "source": [
    "# Test your code  (leave this part unchanged)\n",
    "\n",
    "predictions = pd.DataFrame({\"A\":[0.9,0.9,0.6,0.55],\"B\":[0.1,0.1,0.4,0.45]})\n",
    "\n",
    "correctlabels = [\"A\",\"B\",\"B\",\"A\"]\n",
    "\n",
    "print(\"AUC: {}\".format(auc(predictions,correctlabels)))"
   ]
  },
  {
   "cell_type": "code",
   "execution_count": 20,
   "metadata": {},
   "outputs": [
    {
     "name": "stdout",
     "output_type": "stream",
     "text": [
      "AUC: 0.8499999999999999\n"
     ]
    }
   ],
   "source": [
    "predictions = pd.DataFrame({\"A\":[0.5,0.5,0.5,0.25,0.25],\"B\":[0.5,0.25,0.25,0.5,0.25],\"C\":[0.0,0.25,0.25,0.25,0.5]})\n",
    "\n",
    "correctlabels = [\"B\",\"A\",\"B\",\"B\",\"C\"]\n",
    "\n",
    "print(\"AUC: {}\".format(auc(predictions,correctlabels)))"
   ]
  },
  {
   "cell_type": "markdown",
   "metadata": {},
   "source": [
    "### Comment on assumptions, things that do not work properly, etc."
   ]
  }
 ],
 "metadata": {
  "kernelspec": {
   "display_name": "Python 3",
   "language": "python",
   "name": "python3"
  },
  "language_info": {
   "codemirror_mode": {
    "name": "ipython",
    "version": 3
   },
   "file_extension": ".py",
   "mimetype": "text/x-python",
   "name": "python",
   "nbconvert_exporter": "python",
   "pygments_lexer": "ipython3",
   "version": "3.8.8"
  }
 },
 "nbformat": 4,
 "nbformat_minor": 4
}
