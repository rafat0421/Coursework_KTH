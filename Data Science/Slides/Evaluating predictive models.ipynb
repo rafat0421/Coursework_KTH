{
 "cells": [
  {
   "cell_type": "markdown",
   "metadata": {},
   "source": [
    "## Evaluating Predictive Models"
   ]
  },
  {
   "cell_type": "code",
   "execution_count": null,
   "metadata": {},
   "outputs": [],
   "source": [
    "# Plotting a ROC curve"
   ]
  },
  {
   "cell_type": "code",
   "execution_count": null,
   "metadata": {},
   "outputs": [],
   "source": [
    "import numpy as np\n",
    "import matplotlib.pyplot as plt\n",
    "\n",
    "# Assuming we have five positive and five negative instances in the test set\n",
    "# for which eight different scores (probability of being positive, not shown)\n",
    "# have been observed, in decreasing order below, e.g., for the highest score\n",
    "# we have observed one positive instance\n",
    "\n",
    "pos = [1,1,1,1,0,1,0,0]\n",
    "neg = [0,0,1,0,1,0,2,1]"
   ]
  },
  {
   "cell_type": "code",
   "execution_count": null,
   "metadata": {},
   "outputs": [],
   "source": [
    "tpr = [cs/sum(pos) for cs in np.cumsum(pos)]\n",
    "display(tpr)"
   ]
  },
  {
   "cell_type": "code",
   "execution_count": null,
   "metadata": {},
   "outputs": [],
   "source": [
    "fpr = [cs/sum(neg) for cs in np.cumsum(neg)]\n",
    "display(fpr)"
   ]
  },
  {
   "cell_type": "code",
   "execution_count": null,
   "metadata": {},
   "outputs": [],
   "source": [
    "plt.plot([0.0]+fpr+[1.0],[0.0]+tpr+[1.0],\"-\",label=\"1\")\n",
    "plt.plot([0.0,1.0],[0.0,1.0],\"--\",label=\"Baseline\")\n",
    "plt.xlabel(\"fpr\")\n",
    "plt.ylabel(\"tpr\")\n",
    "plt.legend()\n",
    "plt.savefig(\"ROC\") # cannot save the plot after it has been shown\n",
    "plt.show()"
   ]
  },
  {
   "cell_type": "code",
   "execution_count": null,
   "metadata": {},
   "outputs": [],
   "source": [
    "# Pearson (product moment) correlation coefficient"
   ]
  },
  {
   "cell_type": "code",
   "execution_count": null,
   "metadata": {},
   "outputs": [],
   "source": [
    "observed = np.random.randn(1000)"
   ]
  },
  {
   "cell_type": "code",
   "execution_count": null,
   "metadata": {},
   "outputs": [],
   "source": [
    "predicted = np.random.randn(1000)"
   ]
  },
  {
   "cell_type": "code",
   "execution_count": null,
   "metadata": {},
   "outputs": [],
   "source": [
    "corrcoef = np.corrcoef(observed,predicted)[0][1]\n",
    "display(corrcoef)"
   ]
  },
  {
   "cell_type": "code",
   "execution_count": null,
   "metadata": {},
   "outputs": [],
   "source": [
    "plt.plot(observed,predicted,\"bo\")\n",
    "plt.title(\"corrcoef = \" + str(round(corrcoef,4)))\n",
    "plt.xlabel(\"observed\")\n",
    "plt.ylabel(\"predicted\")\n",
    "plt.savefig(\"random\")\n",
    "plt.show()"
   ]
  },
  {
   "cell_type": "code",
   "execution_count": null,
   "metadata": {},
   "outputs": [],
   "source": [
    "noise = np.random.randn(1000)/2\n",
    "predicted = observed+noise\n",
    "corrcoef = np.corrcoef(observed,predicted)[0][1]\n",
    "plt.plot(observed,predicted,\"bo\")\n",
    "plt.title(\"corrcoef = \" + str(round(corrcoef,4)))\n",
    "plt.xlabel(\"observed\")\n",
    "plt.ylabel(\"predicted\")\n",
    "plt.savefig(\"less random\")\n",
    "plt.show()"
   ]
  },
  {
   "cell_type": "code",
   "execution_count": null,
   "metadata": {},
   "outputs": [],
   "source": [
    "noise = np.random.randn(1000)/10\n",
    "predicted = 1-observed+noise\n",
    "corrcoef = np.corrcoef(observed,predicted)[0][1]\n",
    "plt.plot(observed,predicted,\"bo\")\n",
    "plt.title(\"corrcoef = \" + str(round(corrcoef,4)))\n",
    "plt.xlabel(\"observed\")\n",
    "plt.ylabel(\"predicted\")\n",
    "plt.savefig(\"even less random\")\n",
    "plt.show()"
   ]
  }
 ],
 "metadata": {
  "kernelspec": {
   "display_name": "Python 3",
   "language": "python",
   "name": "python3"
  },
  "language_info": {
   "codemirror_mode": {
    "name": "ipython",
    "version": 3
   },
   "file_extension": ".py",
   "mimetype": "text/x-python",
   "name": "python",
   "nbconvert_exporter": "python",
   "pygments_lexer": "ipython3",
   "version": "3.7.8"
  }
 },
 "nbformat": 4,
 "nbformat_minor": 4
}
